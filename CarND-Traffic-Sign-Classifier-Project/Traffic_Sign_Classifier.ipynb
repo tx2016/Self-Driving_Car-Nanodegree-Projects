{
 "cells": [
  {
   "cell_type": "markdown",
   "metadata": {},
   "source": [
    "# Self-Driving Car Engineer Nanodegree\n",
    "\n",
    "## Deep Learning\n",
    "\n",
    "## Project: Build a Traffic Sign Recognition Classifier\n",
    "\n",
    "In this notebook, a template is provided for you to implement your functionality in stages which is required to successfully complete this project. If additional code is required that cannot be included in the notebook, be sure that the Python code is successfully imported and included in your submission, if necessary. Sections that begin with **'Implementation'** in the header indicate where you should begin your implementation for your project. Note that some sections of implementation are optional, and will be marked with **'Optional'** in the header.\n",
    "\n",
    "In addition to implementing code, there will be questions that you must answer which relate to the project and your implementation. Each section where you will answer a question is preceded by a **'Question'** header. Carefully read each question and provide thorough answers in the following text boxes that begin with **'Answer:'**. Your project submission will be evaluated based on your answers to each of the questions and the implementation you provide.\n",
    "\n",
    ">**Note:** Code and Markdown cells can be executed using the **Shift + Enter** keyboard shortcut. In addition, Markdown cells can be edited by typically double-clicking the cell to enter edit mode."
   ]
  },
  {
   "cell_type": "markdown",
   "metadata": {},
   "source": [
    "---\n",
    "## Step 0: Load The Data"
   ]
  },
  {
   "cell_type": "code",
   "execution_count": 3,
   "metadata": {
    "collapsed": false
   },
   "outputs": [],
   "source": [
    "import pickle\n",
    "import time\n",
    "import random\n",
    "import numpy as np\n",
    "from sklearn.utils import shuffle\n",
    "from sklearn.model_selection import train_test_split\n",
    "import tensorflow as tf\n",
    "from tensorflow.contrib.layers import flatten\n",
    "import matplotlib.pyplot as plt\n",
    "%matplotlib inline\n",
    "\n",
    "from skimage import transform\n",
    "from skimage.util import random_noise\n",
    "from skimage.filters import gaussian\n",
    "from skimage.exposure import rescale_intensity\n",
    "\n",
    "import cv2\n",
    "\n",
    "# TODO: Fill this in based on where you saved the training and testing data\n",
    "\n",
    "training_file = 'traffic-signs-data/train.p'\n",
    "testing_file = 'traffic-signs-data/test.p'\n",
    "\n",
    "with open(training_file, mode='rb') as f:\n",
    "    train = pickle.load(f)\n",
    "with open(testing_file, mode='rb') as f:\n",
    "    test = pickle.load(f)\n",
    "    \n",
    "X_train, y_train = train['features'], train['labels']\n",
    "X_test, y_test = test['features'], test['labels']"
   ]
  },
  {
   "cell_type": "markdown",
   "metadata": {},
   "source": [
    "---\n",
    "\n",
    "## Step 1: Dataset Summary & Exploration\n",
    "\n",
    "The pickled data is a dictionary with 4 key/value pairs:\n",
    "\n",
    "- `'features'` is a 4D array containing raw pixel data of the traffic sign images, (num examples, width, height, channels).\n",
    "- `'labels'` is a 1D array containing the label/class id of the traffic sign. The file `signnames.csv` contains id -> name mappings for each id.\n",
    "- `'sizes'` is a list containing tuples, (width, height) representing the the original width and height the image.\n",
    "- `'coords'` is a list containing tuples, (x1, y1, x2, y2) representing coordinates of a bounding box around the sign in the image. **THESE COORDINATES ASSUME THE ORIGINAL IMAGE. THE PICKLED DATA CONTAINS RESIZED VERSIONS (32 by 32) OF THESE IMAGES**\n",
    "\n",
    "Complete the basic data summary below."
   ]
  },
  {
   "cell_type": "code",
   "execution_count": 2,
   "metadata": {
    "collapsed": false,
    "scrolled": true
   },
   "outputs": [
    {
     "name": "stdout",
     "output_type": "stream",
     "text": [
      "Number of training examples = 39209\n",
      "Number of testing examples = 12630\n",
      "Image data shape = (32, 32, 3)\n",
      "Number of classes = 43\n"
     ]
    }
   ],
   "source": [
    "### Replace each question mark with the appropriate value.\n",
    "\n",
    "# TODO: Number of training examples\n",
    "n_train = len(X_train)\n",
    "\n",
    "# TODO: Number of testing examples.\n",
    "n_test = len(X_test)\n",
    "\n",
    "# TODO: What's the shape of an traffic sign image?\n",
    "image_shape = X_train[0].shape\n",
    "\n",
    "# TODO: How many unique classes/labels there are in the dataset.\n",
    "unique_label = []\n",
    "for label in test['labels']:\n",
    "    if (label not in unique_label):\n",
    "        unique_label.append(label)\n",
    "n_classes = len(unique_label)\n",
    "\n",
    "print(\"Number of training examples =\", n_train)\n",
    "print(\"Number of testing examples =\", n_test)\n",
    "print(\"Image data shape =\", image_shape)\n",
    "print(\"Number of classes =\", n_classes)"
   ]
  },
  {
   "cell_type": "markdown",
   "metadata": {},
   "source": [
    "Visualize the German Traffic Signs Dataset using the pickled file(s). This is open ended, suggestions include: plotting traffic sign images, plotting the count of each sign, etc.\n",
    "\n",
    "The [Matplotlib](http://matplotlib.org/) [examples](http://matplotlib.org/examples/index.html) and [gallery](http://matplotlib.org/gallery.html) pages are a great resource for doing visualizations in Python.\n",
    "\n",
    "**NOTE:** It's recommended you start with something simple first. If you wish to do more, come back to it after you've completed the rest of the sections."
   ]
  },
  {
   "cell_type": "code",
   "execution_count": 3,
   "metadata": {
    "collapsed": false
   },
   "outputs": [
    {
     "data": {
      "image/png": "[encoded data removed]",
      "text/plain": [
       "<matplotlib.figure.Figure at 0x7fa5e0926da0>"
      ]
     },
     "metadata": {},
     "output_type": "display_data"
    },
    {
     "data": {
      "image/png": "[encoded data removed]",
      "text/plain": [
       "<matplotlib.figure.Figure at 0x7fa5e098bc50>"
      ]
     },
     "metadata": {},
     "output_type": "display_data"
    }
   ],
   "source": [
    "### Data exploration visualization goes here.\n",
    "### Feel free to use as many code cells as needed.\n",
    "\n",
    "# Plot the histogram on training label\n",
    "plt.subplot(2,1,1)\n",
    "plt.axis([0, 42, 0, 2600])\n",
    "plt.hist(y_train, n_classes,rwidth=0.8, color = 'blue')\n",
    "plt.xlabel('Class Label')\n",
    "plt.ylabel('Count')\n",
    "plt.title('Training label')\n",
    "plt.show()\n",
    "\n",
    "# Plot the histogram on test label\n",
    "plt.subplot(2,1,2)\n",
    "plt.axis([0, 42, 0, 1400])\n",
    "plt.hist(y_test, n_classes, rwidth=0.8, color = 'red')\n",
    "plt.xlabel('Class Label')\n",
    "plt.ylabel('Count')\n",
    "plt.title('Test label')\n",
    "plt.show()"
   ]
  },
  {
   "cell_type": "code",
   "execution_count": 4,
   "metadata": {
    "collapsed": false
   },
   "outputs": [],
   "source": [
    "def generate_images(img):\n",
    "    random_angle = np.random.uniform(-60, 60)\n",
    "    row, col = img.shape[0:2]\n",
    "    rotated_img = cv2.getRotationMatrix2D((col/2,row/2), random_angle,1)\n",
    "    output = cv2.warpAffine(img, rotated_img,(col ,row))\n",
    "    \n",
    "    return output"
   ]
  },
  {
   "cell_type": "code",
   "execution_count": 7,
   "metadata": {
    "collapsed": false
   },
   "outputs": [
    {
     "data": {
      "text/plain": [
       "(98900, 32, 32, 3)"
      ]
     },
     "execution_count": 7,
     "metadata": {},
     "output_type": "execute_result"
    }
   ],
   "source": [
    "# Make sure each class has same number of dataset \n",
    "count_class = np.bincount(y_train)\n",
    "#print(max(count_class)) #2250\n",
    "\n",
    "for i in range(n_classes):     \n",
    "    X_added, y_added = [], []\n",
    "    imgs_with_label_i = X_train[np.where(y_train == i)]\n",
    "\n",
    "\n",
    "    imgs_to_add = 2300 - count_class[i]\n",
    "    \n",
    "    for j in range(imgs_to_add):\n",
    "        img_to_add_random_idx = np.random.randint(count_class[i])\n",
    "        X_added.append(generate_images(imgs_with_label_i[img_to_add_random_idx]))\n",
    "        y_added.append(i)\n",
    "        \n",
    "    X_train = np.append(X_train, X_added, axis=0)\n",
    "    y_train = np.append(y_train, y_added, axis=0)\n",
    "\n",
    "X_train.shape"
   ]
  },
  {
   "cell_type": "code",
   "execution_count": 8,
   "metadata": {
    "collapsed": false
   },
   "outputs": [
    {
     "data": {
      "image/png": "[encoded data removed]",
      "text/plain": [
       "<matplotlib.figure.Figure at 0x7fa59812a9b0>"
      ]
     },
     "metadata": {},
     "output_type": "display_data"
    }
   ],
   "source": [
    "# Each classes' train dataset size after balancing\n",
    "plt.axis([0, 42, 0, 3000])\n",
    "plt.hist(y_train, n_classes,rwidth=0.8, color = 'blue')\n",
    "plt.xlabel('Class Label')\n",
    "plt.ylabel('Count')\n",
    "plt.title('Training label')\n",
    "plt.show()"
   ]
  },
  {
   "cell_type": "markdown",
   "metadata": {},
   "source": [
    "----\n",
    "\n",
    "## Step 2: Design and Test a Model Architecture\n",
    "\n",
    "Design and implement a deep learning model that learns to recognize traffic signs. Train and test your model on the [German Traffic Sign Dataset](http://benchmark.ini.rub.de/?section=gtsrb&subsection=dataset).\n",
    "\n",
    "There are various aspects to consider when thinking about this problem:\n",
    "\n",
    "- Neural network architecture\n",
    "- Play around preprocessing techniques (normalization, rgb to grayscale, etc)\n",
    "- Number of examples per label (some have more than others).\n",
    "- Generate fake data.\n",
    "\n",
    "Here is an example of a [published baseline model on this problem](http://yann.lecun.com/exdb/publis/pdf/sermanet-ijcnn-11.pdf). It's not required to be familiar with the approach used in the paper but, it's good practice to try to read papers like these.\n",
    "\n",
    "**NOTE:** The LeNet-5 implementation shown in the [classroom](https://classroom.udacity.com/nanodegrees/nd013/parts/fbf77062-5703-404e-b60c-95b78b2f3f9e/modules/6df7ae49-c61c-4bb2-a23e-6527e69209ec/lessons/601ae704-1035-4287-8b11-e2c2716217ad/concepts/d4aca031-508f-4e0b-b493-e7b706120f81) at the end of the CNN lesson is a solid starting point. You'll have to change the number of classes and possibly the preprocessing, but aside from that it's plug and play!"
   ]
  },
  {
   "cell_type": "markdown",
   "metadata": {},
   "source": [
    "### Implementation\n",
    "\n",
    "Use the code cell (or multiple code cells, if necessary) to implement the first step of your project. Once you have completed your implementation and are satisfied with the results, be sure to thoroughly answer the questions that follow."
   ]
  },
  {
   "cell_type": "markdown",
   "metadata": {},
   "source": [
    "### Question 1 \n",
    "\n",
    "_Describe how you preprocessed the data. Why did you choose that technique?_"
   ]
  },
  {
   "cell_type": "markdown",
   "metadata": {},
   "source": [
    "**Answer:** \n",
    "\n",
    "* A histogram is generated to explore the symmetry of the training dataset for all 43 labels. It is important to undertand the training dataset and to ensure different classes have similar dataset distribution, so the model could be trained without biases.\n"
   ]
  },
  {
   "cell_type": "markdown",
   "metadata": {},
   "source": [
    "### Question 2\n",
    "\n",
    "_Describe how you set up the training, validation and testing data for your model. **Optional**: If you generated additional data, how did you generate the data? Why did you generate the data? What are the differences in the new dataset (with generated data) from the original dataset?_"
   ]
  },
  {
   "cell_type": "markdown",
   "metadata": {},
   "source": [
    "**Answer:** \n",
    "* 80% of the data are used for training and 20% are used for validation.\n",
    "* The histogram shows a highly unbalanced dataset, and additional data needs to be generated. To generate the addional data, I used opencv package to generate a rotated version of the original image. The rotating angle follows an uniform distribution between -60 and +60 degree. \n"
   ]
  },
  {
   "cell_type": "code",
   "execution_count": 11,
   "metadata": {
    "collapsed": false
   },
   "outputs": [],
   "source": [
    "from sklearn.model_selection import train_test_split\n",
    "X_train, X_validation, y_train, y_validation = train_test_split(X_train, y_train, test_size = 0.2, random_state = 0)"
   ]
  },
  {
   "cell_type": "markdown",
   "metadata": {},
   "source": [
    "### Question 3\n",
    "\n",
    "_What does your final architecture look like? (Type of model, layers, sizes, connectivity, etc.)  For reference on how to build a deep neural network using TensorFlow, see [Deep Neural Network in TensorFlow\n",
    "](https://classroom.udacity.com/nanodegrees/nd013/parts/fbf77062-5703-404e-b60c-95b78b2f3f9e/modules/6df7ae49-c61c-4bb2-a23e-6527e69209ec/lessons/b516a270-8600-4f93-a0a3-20dfeabe5da6/concepts/83a3a2a2-a9bd-4b7b-95b0-eb924ab14432) from the classroom._\n"
   ]
  },
  {
   "cell_type": "markdown",
   "metadata": {},
   "source": [
    "**Answer:**\n",
    "* The final architecture has 3 convolutional layers, 3 max pooling layers with a 3 x 3 block and 3 fully connected layers.\n",
    "* The first convolutional layer has a 32@28 x 28 output, the second convolutional layer has a 64@24 x 24 output and the third convolutional layer has a 64@18 x 18 output.\n",
    "* All convolutional layers and max pooling layers are \"VALID\" padded.\n",
    "* The first fully connected layer has 1024 parameters, the second FC layers has 512 parameters and the thrid FC layer has 128 parameters\n"
   ]
  },
  {
   "cell_type": "code",
   "execution_count": 60,
   "metadata": {
    "collapsed": true
   },
   "outputs": [],
   "source": [
    "def CNN(x):    \n",
    "    # Arguments used for tf.truncated_normal, randomly defines variables for the weights and biases for each layer\n",
    "    mu = 0.0\n",
    "    sigma = 0.1\n",
    "    weights = {\n",
    "        'wc1': tf.Variable(tf.truncated_normal((5, 5, 3, 32), mean = mu, stddev = sigma)),\n",
    "        'wc2': tf.Variable(tf.truncated_normal((3, 3, 32, 64), mean = mu, stddev = sigma)),\n",
    "        'wc3': tf.Variable(tf.truncated_normal((5, 5, 64, 64), mean = mu, stddev = sigma)),\n",
    "        'wf1': tf.Variable(tf.truncated_normal((1024, 512), mean = mu, stddev = sigma)),\n",
    "        'wf2': tf.Variable(tf.truncated_normal((512, 128), mean = mu, stddev = sigma)),\n",
    "        'wf3': tf.Variable(tf.truncated_normal((128, 43), mean = mu, stddev = sigma))\n",
    "    }\n",
    "    \n",
    "    biases = {\n",
    "        'bc1': tf.Variable(tf.zeros(32)),\n",
    "        'bc2': tf.Variable(tf.zeros(64)),\n",
    "        'bc3': tf.Variable(tf.zeros(64)),\n",
    "        'bf1': tf.Variable(tf.zeros(512)),\n",
    "        'bf2': tf.Variable(tf.zeros(128)),\n",
    "        'bf3': tf.Variable(tf.zeros(43))\n",
    "    }\n",
    "    # TODO: Layer 1: Convolutional. Input = 32x32x3. Output = 28x28x32.\n",
    "    conv_layer1 = tf.nn.conv2d(x, weights['wc1'], strides = [1, 1, 1, 1], padding = 'VALID')\n",
    "    conv_layer1 = tf.nn.bias_add(conv_layer1, biases['bc1'])\n",
    "    \n",
    "    # TODO: Activation.\n",
    "    conv_layer1 = tf.nn.relu(conv_layer1)\n",
    "    # TODO: Pooling. Input = 28x28x32. Output = 26x26x32.\n",
    "    conv_layer1 = tf.nn.max_pool(conv_layer1, ksize = [1, 3, 3, 1], strides = [1, 1, 1, 1], padding = 'VALID')\n",
    "    \n",
    "    # TODO: Layer 2: Convolutional. Output = 24x24x64.\n",
    "    conv_layer2 = tf.nn.conv2d(conv_layer1, weights['wc2'], strides = [1, 1, 1, 1], padding = 'VALID')\n",
    "    conv_layer2 = tf.nn.bias_add(conv_layer2, biases['bc2'])\n",
    "    \n",
    "    # TODO: Activation.\n",
    "    conv_layer2 = tf.nn.relu(conv_layer2)\n",
    "    # TODO: Pooling. Input = 24x24x64. Output = 22x22x64.\n",
    "    conv_layer2 = tf.nn.max_pool(conv_layer2, ksize = [1, 3, 3, 1], strides = [1, 1, 1, 1], padding = 'VALID')\n",
    "\n",
    "    # TODO: Layer 3: Convolutional. Output = 18x18x64.\n",
    "    conv_layer3 = tf.nn.conv2d(conv_layer2, weights['wc3'], strides = [1, 1, 1, 1], padding = 'VALID')\n",
    "    conv_layer3 = tf.nn.bias_add(conv_layer3, biases['bc3'])\n",
    "    \n",
    "    # TODO: Activation.\n",
    "    conv_layer3 = tf.nn.relu(conv_layer3)\n",
    "    # TODO: Pooling. Input = 18x18x64. Output = 4x4x64.\n",
    "    conv_layer3 = tf.nn.max_pool(conv_layer3, ksize = [1, 3, 3, 1], strides = [1, 4, 4, 1], padding = 'VALID')\n",
    "    \n",
    "#     print(conv_layer3.get_shape())\n",
    "    # TODO: Flatten. Input = 4x4x64. Output = 1024.\n",
    "    fc0 = flatten(conv_layer3)\n",
    "#     print(fc0.get_shape())\n",
    "    \n",
    "    # TODO: Layer 4: Fully Connected. Input = 1024. Output = 512.\n",
    "    fc1 = tf.add(tf.matmul(fc0, weights['wf1']), biases['bf1'])\n",
    "    # TODO: Activation.\n",
    "    fc1 = tf.nn.relu(fc1)\n",
    "#     print(fc1.get_shape())\n",
    "\n",
    "    # TODO: Layer 5: Fully Connected. Input = 512. Output = 256.\n",
    "    fc2 = tf.add(tf.matmul(fc1, weights['wf2']), biases['bf2'])\n",
    "\n",
    "    # TODO: Activation.\n",
    "    fc2 = tf.nn.relu(fc2)\n",
    "\n",
    "    # TODO: Layer 6: Fully Connected. Input = 256. Output = 43.\n",
    "    fc3 = tf.add(tf.matmul(fc2, weights['wf3']), biases['bf3'])\n",
    "    logits = fc3\n",
    "    \n",
    "    return logits"
   ]
  },
  {
   "cell_type": "code",
   "execution_count": 61,
   "metadata": {
    "collapsed": false
   },
   "outputs": [],
   "source": [
    "x = tf.placeholder(tf.float32, (None, 32, 32, 3))\n",
    "y = tf.placeholder(tf.int32, (None))\n",
    "one_hot_y = tf.one_hot(y, 43)"
   ]
  },
  {
   "cell_type": "code",
   "execution_count": 62,
   "metadata": {
    "collapsed": false
   },
   "outputs": [],
   "source": [
    "EPOCHS = 100\n",
    "BATCH_SIZE = 128*1\n",
    "rate = 0.0003\n",
    "\n",
    "logits = CNN(x)\n",
    "cross_entropy = tf.nn.softmax_cross_entropy_with_logits(logits, one_hot_y)\n",
    "loss_operation = tf.reduce_mean(cross_entropy)\n",
    "optimizer = tf.train.AdamOptimizer(learning_rate = rate)\n",
    "training_operation = optimizer.minimize(loss_operation)"
   ]
  },
  {
   "cell_type": "code",
   "execution_count": 63,
   "metadata": {
    "collapsed": false
   },
   "outputs": [],
   "source": [
    "correct_prediction = tf.equal(tf.argmax(logits, 1), tf.argmax(one_hot_y, 1))\n",
    "accuracy_operation = tf.reduce_mean(tf.cast(correct_prediction, tf.float32))\n",
    "saver = tf.train.Saver()\n",
    "\n",
    "def evaluate(X_data, y_data):\n",
    "    num_examples = len(X_data)\n",
    "    total_accuracy = 0\n",
    "    sess = tf.get_default_session()\n",
    "    for offset in range(0, num_examples, BATCH_SIZE):\n",
    "        batch_x, batch_y = X_data[offset:offset+BATCH_SIZE], y_data[offset:offset+BATCH_SIZE]\n",
    "        accuracy = sess.run(accuracy_operation, feed_dict={x: batch_x, y: batch_y})\n",
    "        total_accuracy += (accuracy * len(batch_x))\n",
    "    return total_accuracy / num_examples"
   ]
  },
  {
   "cell_type": "code",
   "execution_count": 64,
   "metadata": {
    "collapsed": false
   },
   "outputs": [
    {
     "name": "stdout",
     "output_type": "stream",
     "text": [
      "Training...\n",
      "\n",
      "EPOCH 1 ...\n",
      "Time: 39.223 seconds\n",
      "Validation Accuracy = 0.028\n",
      "\n",
      "EPOCH 2 ...\n",
      "Time: 39.148 seconds\n",
      "Validation Accuracy = 0.046\n",
      "\n",
      "EPOCH 3 ...\n",
      "Time: 39.144 seconds\n",
      "Validation Accuracy = 0.076\n",
      "\n",
      "EPOCH 4 ...\n",
      "Time: 39.159 seconds\n",
      "Validation Accuracy = 0.108\n",
      "\n",
      "EPOCH 5 ...\n",
      "Time: 39.175 seconds\n",
      "Validation Accuracy = 0.132\n",
      "\n",
      "EPOCH 6 ...\n",
      "Time: 39.208 seconds\n",
      "Validation Accuracy = 0.178\n",
      "\n",
      "EPOCH 7 ...\n",
      "Time: 39.181 seconds\n",
      "Validation Accuracy = 0.273\n",
      "\n",
      "EPOCH 8 ...\n",
      "Time: 39.161 seconds\n",
      "Validation Accuracy = 0.364\n",
      "\n",
      "EPOCH 9 ...\n",
      "Time: 39.166 seconds\n",
      "Validation Accuracy = 0.497\n",
      "\n",
      "EPOCH 10 ...\n",
      "Time: 39.212 seconds\n",
      "Validation Accuracy = 0.602\n",
      "\n",
      "EPOCH 11 ...\n",
      "Time: 39.183 seconds\n",
      "Validation Accuracy = 0.657\n",
      "\n",
      "EPOCH 12 ...\n",
      "Time: 39.188 seconds\n",
      "Validation Accuracy = 0.705\n",
      "\n",
      "EPOCH 13 ...\n",
      "Time: 39.188 seconds\n",
      "Validation Accuracy = 0.774\n",
      "\n",
      "EPOCH 14 ...\n",
      "Time: 39.219 seconds\n",
      "Validation Accuracy = 0.852\n",
      "\n",
      "EPOCH 15 ...\n",
      "Time: 39.190 seconds\n",
      "Validation Accuracy = 0.886\n",
      "\n",
      "EPOCH 16 ...\n",
      "Time: 39.195 seconds\n",
      "Validation Accuracy = 0.918\n",
      "\n",
      "EPOCH 17 ...\n",
      "Time: 39.202 seconds\n",
      "Validation Accuracy = 0.929\n",
      "\n",
      "EPOCH 18 ...\n",
      "Time: 39.186 seconds\n",
      "Validation Accuracy = 0.946\n",
      "\n",
      "EPOCH 19 ...\n",
      "Time: 39.194 seconds\n",
      "Validation Accuracy = 0.950\n",
      "\n",
      "EPOCH 20 ...\n",
      "Time: 39.184 seconds\n",
      "Validation Accuracy = 0.951\n",
      "\n",
      "EPOCH 21 ...\n",
      "Time: 39.194 seconds\n",
      "Validation Accuracy = 0.966\n",
      "\n",
      "EPOCH 22 ...\n",
      "Time: 39.250 seconds\n",
      "Validation Accuracy = 0.967\n",
      "\n",
      "EPOCH 23 ...\n",
      "Time: 39.186 seconds\n",
      "Validation Accuracy = 0.956\n",
      "\n",
      "EPOCH 24 ...\n",
      "Time: 39.201 seconds\n",
      "Validation Accuracy = 0.971\n",
      "\n",
      "EPOCH 25 ...\n",
      "Time: 39.203 seconds\n",
      "Validation Accuracy = 0.966\n",
      "\n",
      "EPOCH 26 ...\n",
      "Time: 39.189 seconds\n",
      "Validation Accuracy = 0.967\n",
      "\n",
      "EPOCH 27 ...\n",
      "Time: 39.178 seconds\n",
      "Validation Accuracy = 0.969\n",
      "\n",
      "EPOCH 28 ...\n",
      "Time: 39.178 seconds\n",
      "Validation Accuracy = 0.966\n",
      "\n",
      "EPOCH 29 ...\n",
      "Time: 39.196 seconds\n",
      "Validation Accuracy = 0.971\n",
      "\n",
      "EPOCH 30 ...\n",
      "Time: 39.217 seconds\n",
      "Validation Accuracy = 0.977\n",
      "\n",
      "EPOCH 31 ...\n",
      "Time: 39.195 seconds\n",
      "Validation Accuracy = 0.982\n",
      "\n",
      "EPOCH 32 ...\n",
      "Time: 39.172 seconds\n",
      "Validation Accuracy = 0.975\n",
      "\n",
      "EPOCH 33 ...\n",
      "Time: 39.184 seconds\n",
      "Validation Accuracy = 0.970\n",
      "\n",
      "EPOCH 34 ...\n",
      "Time: 39.190 seconds\n",
      "Validation Accuracy = 0.980\n",
      "\n",
      "EPOCH 35 ...\n",
      "Time: 39.162 seconds\n",
      "Validation Accuracy = 0.981\n",
      "\n",
      "EPOCH 36 ...\n",
      "Time: 39.172 seconds\n",
      "Validation Accuracy = 0.980\n",
      "\n",
      "EPOCH 37 ...\n",
      "Time: 39.221 seconds\n",
      "Validation Accuracy = 0.985\n",
      "\n",
      "EPOCH 38 ...\n",
      "Time: 39.175 seconds\n",
      "Validation Accuracy = 0.985\n",
      "\n",
      "EPOCH 39 ...\n",
      "Time: 39.170 seconds\n",
      "Validation Accuracy = 0.975\n",
      "\n",
      "EPOCH 40 ...\n",
      "Time: 39.172 seconds\n",
      "Validation Accuracy = 0.981\n",
      "\n",
      "EPOCH 41 ...\n",
      "Time: 39.171 seconds\n",
      "Validation Accuracy = 0.985\n",
      "\n",
      "EPOCH 42 ...\n",
      "Time: 39.179 seconds\n",
      "Validation Accuracy = 0.967\n",
      "\n",
      "EPOCH 43 ...\n",
      "Time: 39.166 seconds\n",
      "Validation Accuracy = 0.986\n",
      "\n",
      "EPOCH 44 ...\n",
      "Time: 39.175 seconds\n",
      "Validation Accuracy = 0.983\n",
      "\n",
      "EPOCH 45 ...\n",
      "Time: 39.250 seconds\n",
      "Validation Accuracy = 0.983\n",
      "\n",
      "EPOCH 46 ...\n",
      "Time: 39.167 seconds\n",
      "Validation Accuracy = 0.980\n",
      "\n",
      "EPOCH 47 ...\n",
      "Time: 39.158 seconds\n",
      "Validation Accuracy = 0.983\n",
      "\n",
      "EPOCH 48 ...\n",
      "Time: 39.175 seconds\n",
      "Validation Accuracy = 0.987\n",
      "\n",
      "EPOCH 49 ...\n",
      "Time: 39.162 seconds\n",
      "Validation Accuracy = 0.987\n",
      "\n",
      "EPOCH 50 ...\n",
      "Time: 39.159 seconds\n",
      "Validation Accuracy = 0.983\n",
      "\n",
      "EPOCH 51 ...\n",
      "Time: 39.164 seconds\n",
      "Validation Accuracy = 0.985\n",
      "\n",
      "EPOCH 52 ...\n",
      "Time: 39.155 seconds\n",
      "Validation Accuracy = 0.989\n",
      "\n",
      "EPOCH 53 ...\n",
      "Time: 39.225 seconds\n",
      "Validation Accuracy = 0.987\n",
      "\n",
      "EPOCH 54 ...\n",
      "Time: 39.162 seconds\n",
      "Validation Accuracy = 0.976\n",
      "\n",
      "EPOCH 55 ...\n",
      "Time: 39.142 seconds\n",
      "Validation Accuracy = 0.987\n",
      "\n",
      "EPOCH 56 ...\n",
      "Time: 39.180 seconds\n",
      "Validation Accuracy = 0.978\n",
      "\n",
      "EPOCH 57 ...\n",
      "Time: 39.150 seconds\n",
      "Validation Accuracy = 0.990\n",
      "\n",
      "EPOCH 58 ...\n",
      "Time: 39.157 seconds\n",
      "Validation Accuracy = 0.989\n",
      "\n",
      "EPOCH 59 ...\n",
      "Time: 39.182 seconds\n",
      "Validation Accuracy = 0.986\n",
      "\n",
      "EPOCH 60 ...\n",
      "Time: 39.169 seconds\n",
      "Validation Accuracy = 0.970\n",
      "\n",
      "EPOCH 61 ...\n",
      "Time: 39.204 seconds\n",
      "Validation Accuracy = 0.980\n",
      "\n",
      "EPOCH 62 ...\n",
      "Time: 39.169 seconds\n",
      "Validation Accuracy = 0.989\n",
      "\n",
      "EPOCH 63 ...\n",
      "Time: 39.143 seconds\n",
      "Validation Accuracy = 0.984\n",
      "\n",
      "EPOCH 64 ...\n",
      "Time: 39.139 seconds\n",
      "Validation Accuracy = 0.990\n",
      "\n",
      "EPOCH 65 ...\n",
      "Time: 39.143 seconds\n",
      "Validation Accuracy = 0.992\n",
      "\n",
      "EPOCH 66 ...\n",
      "Time: 39.144 seconds\n",
      "Validation Accuracy = 0.987\n",
      "\n",
      "EPOCH 67 ...\n",
      "Time: 39.157 seconds\n",
      "Validation Accuracy = 0.988\n",
      "\n",
      "EPOCH 68 ...\n",
      "Time: 39.153 seconds\n",
      "Validation Accuracy = 0.981\n",
      "\n",
      "EPOCH 69 ...\n",
      "Time: 39.176 seconds\n",
      "Validation Accuracy = 0.989\n",
      "\n",
      "EPOCH 70 ...\n",
      "Time: 39.138 seconds\n",
      "Validation Accuracy = 0.988\n",
      "\n",
      "EPOCH 71 ...\n",
      "Time: 39.134 seconds\n",
      "Validation Accuracy = 0.991\n",
      "\n",
      "EPOCH 72 ...\n",
      "Time: 39.132 seconds\n",
      "Validation Accuracy = 0.993\n",
      "\n",
      "EPOCH 73 ...\n",
      "Time: 39.128 seconds\n",
      "Validation Accuracy = 0.987\n",
      "\n",
      "EPOCH 74 ...\n",
      "Time: 39.142 seconds\n",
      "Validation Accuracy = 0.991\n",
      "\n",
      "EPOCH 75 ...\n",
      "Time: 39.133 seconds\n",
      "Validation Accuracy = 0.989\n",
      "\n",
      "EPOCH 76 ...\n",
      "Time: 39.141 seconds\n",
      "Validation Accuracy = 0.990\n",
      "\n",
      "EPOCH 77 ...\n",
      "Time: 39.167 seconds\n",
      "Validation Accuracy = 0.985\n",
      "\n",
      "EPOCH 78 ...\n",
      "Time: 39.150 seconds\n",
      "Validation Accuracy = 0.986\n",
      "\n",
      "EPOCH 79 ...\n",
      "Time: 39.142 seconds\n",
      "Validation Accuracy = 0.992\n",
      "\n",
      "EPOCH 80 ...\n",
      "Time: 39.126 seconds\n",
      "Validation Accuracy = 0.989\n",
      "\n",
      "EPOCH 81 ...\n",
      "Time: 39.127 seconds\n",
      "Validation Accuracy = 0.990\n",
      "\n",
      "EPOCH 82 ...\n",
      "Time: 39.134 seconds\n",
      "Validation Accuracy = 0.989\n",
      "\n",
      "EPOCH 83 ...\n",
      "Time: 39.158 seconds\n",
      "Validation Accuracy = 0.985\n",
      "\n",
      "EPOCH 84 ...\n",
      "Time: 39.138 seconds\n",
      "Validation Accuracy = 0.989\n",
      "\n",
      "EPOCH 85 ...\n",
      "Time: 39.167 seconds\n",
      "Validation Accuracy = 0.989\n",
      "\n",
      "EPOCH 86 ...\n",
      "Time: 39.131 seconds\n",
      "Validation Accuracy = 0.984\n",
      "\n",
      "EPOCH 87 ...\n",
      "Time: 39.131 seconds\n",
      "Validation Accuracy = 0.988\n",
      "\n",
      "EPOCH 88 ...\n",
      "Time: 39.143 seconds\n",
      "Validation Accuracy = 0.991\n",
      "\n",
      "EPOCH 89 ...\n",
      "Time: 39.146 seconds\n",
      "Validation Accuracy = 0.984\n",
      "\n",
      "EPOCH 90 ...\n",
      "Time: 39.123 seconds\n",
      "Validation Accuracy = 0.987\n",
      "\n",
      "EPOCH 91 ...\n",
      "Time: 39.129 seconds\n",
      "Validation Accuracy = 0.992\n",
      "\n",
      "EPOCH 92 ...\n",
      "Time: 39.161 seconds\n",
      "Validation Accuracy = 0.991\n",
      "\n",
      "EPOCH 93 ...\n",
      "Time: 39.167 seconds\n",
      "Validation Accuracy = 0.991\n",
      "\n",
      "EPOCH 94 ...\n",
      "Time: 39.122 seconds\n",
      "Validation Accuracy = 0.989\n",
      "\n",
      "EPOCH 95 ...\n",
      "Time: 39.118 seconds\n",
      "Validation Accuracy = 0.990\n",
      "\n",
      "EPOCH 96 ...\n",
      "Time: 39.129 seconds\n",
      "Validation Accuracy = 0.991\n",
      "\n",
      "EPOCH 97 ...\n",
      "Time: 39.120 seconds\n",
      "Validation Accuracy = 0.992\n",
      "\n",
      "EPOCH 98 ...\n",
      "Time: 39.087 seconds\n",
      "Validation Accuracy = 0.992\n",
      "\n",
      "EPOCH 99 ...\n",
      "Time: 39.117 seconds\n",
      "Validation Accuracy = 0.989\n",
      "\n",
      "EPOCH 100 ...\n",
      "Time: 39.163 seconds\n",
      "Validation Accuracy = 0.992\n",
      "\n",
      "Model saved\n"
     ]
    }
   ],
   "source": [
    "with tf.Session() as sess:\n",
    "    sess.run(tf.global_variables_initializer())\n",
    "    num_examples = len(X_train)\n",
    "    valid_acc = []\n",
    "    print(\"Training...\")\n",
    "    print()\n",
    "    for i in range(EPOCHS):\n",
    "        t0 = time.time()\n",
    "        X_train, y_train = shuffle(X_train, y_train)\n",
    "        for offset in range(0, num_examples, BATCH_SIZE):\n",
    "            end = offset + BATCH_SIZE\n",
    "            batch_x, batch_y = X_train[offset:end], y_train[offset:end]\n",
    "            sess.run(training_operation, feed_dict={x: batch_x, y: batch_y})\n",
    "            \n",
    "        validation_accuracy = evaluate(X_validation, y_validation)\n",
    "        print(\"EPOCH {} ...\".format(i+1))\n",
    "        print(\"Time: %.3f seconds\" % (time.time() - t0))\n",
    "        print(\"Validation Accuracy = {:.3f}\".format(validation_accuracy))\n",
    "        print()\n",
    "        valid_acc.append(validation_accuracy)\n",
    "        \n",
    "    saver.save(sess, './train_model')\n",
    "    print(\"Model saved\")"
   ]
  },
  {
   "cell_type": "code",
   "execution_count": 65,
   "metadata": {
    "collapsed": false
   },
   "outputs": [
    {
     "name": "stdout",
     "output_type": "stream",
     "text": [
      "The maximum validation accuracy is 0.9927325581998024 at epoch 71\n"
     ]
    },
    {
     "data": {
      "image/png": "[encoded data removed]",
      "text/plain": [
       "<matplotlib.figure.Figure at 0x7fa57c379908>"
      ]
     },
     "metadata": {},
     "output_type": "display_data"
    }
   ],
   "source": [
    "plt.title('Validation Accuracy with batch size: {0} and learning rate: {1}'.format(BATCH_SIZE, rate))\n",
    "plt.xlabel('Number of epochs')\n",
    "plt.ylabel('Validation Accuracy')\n",
    "plt.plot(valid_acc)\n",
    "print('The maximum validation accuracy is {0} at epoch {1}'.format(np.max(valid_acc), np.argmax(valid_acc)))"
   ]
  },
  {
   "cell_type": "code",
   "execution_count": 67,
   "metadata": {
    "collapsed": false
   },
   "outputs": [
    {
     "name": "stdout",
     "output_type": "stream",
     "text": [
      "Test Accuracy = 0.944\n"
     ]
    }
   ],
   "source": [
    "with tf.Session() as sess:\n",
    "    saver.restore(sess, tf.train.latest_checkpoint('.'))\n",
    "\n",
    "    test_accuracy = evaluate(X_test, y_test)\n",
    "    print(\"Test Accuracy = {:.3f}\".format(test_accuracy))"
   ]
  },
  {
   "cell_type": "markdown",
   "metadata": {},
   "source": [
    "### Question 4\n",
    "\n",
    "_How did you train your model? (Type of optimizer, batch size, epochs, hyperparameters, etc.)_\n"
   ]
  },
  {
   "cell_type": "markdown",
   "metadata": {},
   "source": [
    "**Answer:**\n",
    "* Adam Optimizer is used, since it is very computational efficient.\n",
    "* Batch size is 128\n",
    "* Epochs are 100\n",
    "* Learning rate is 0.0003\n",
    "* Used AWS to train the model, each epoch is around 40 seconds"
   ]
  },
  {
   "cell_type": "markdown",
   "metadata": {},
   "source": [
    "### Question 5\n",
    "\n",
    "\n",
    "_What approach did you take in coming up with a solution to this problem? It may have been a process of trial and error, in which case, outline the steps you took to get to the final solution and why you chose those steps. Perhaps your solution involved an already well known implementation or architecture. In this case, discuss why you think this is suitable for the current problem._"
   ]
  },
  {
   "cell_type": "markdown",
   "metadata": {},
   "source": [
    "**Answer:**\n",
    "* I first used 0.001 learning rate with 50 epochs without dataset balancing, and the validation accuracy reached 98.7% and test accuracy was 93.4%. Then the learning rate was lower to 0.0005 with 50 epochs without dataset balancing, the validation accuracy reached 98.2% and test accuracy was 93.6%.\n",
    "* After the dataset balancing, I first trained the model with learning rate 0.0005 with 50 epochs, and the validation accuracy reached 98.3% and the test accuracy was only 91.5%. The validation curve flunctuated a little and the learning rate was lower to 0.0003 with 100 epochs, and finally achieved a 94.4% test accuracy."
   ]
  },
  {
   "cell_type": "markdown",
   "metadata": {},
   "source": [
    "---\n",
    "\n",
    "## Step 3: Test a Model on New Images\n",
    "\n",
    "Take several pictures of traffic signs that you find on the web or around you (at least five), and run them through your classifier on your computer to produce example results. The classifier might not recognize some local signs but it could prove interesting nonetheless.\n",
    "\n",
    "You may find `signnames.csv` useful as it contains mappings from the class id (integer) to the actual sign name."
   ]
  },
  {
   "cell_type": "markdown",
   "metadata": {},
   "source": [
    "### Implementation\n",
    "\n",
    "Use the code cell (or multiple code cells, if necessary) to implement the first step of your project. Once you have completed your implementation and are satisfied with the results, be sure to thoroughly answer the questions that follow."
   ]
  },
  {
   "cell_type": "code",
   "execution_count": 68,
   "metadata": {
    "collapsed": false
   },
   "outputs": [
    {
     "data": {
      "image/png": "[encoded data removed]",
      "text/plain": [
       "<matplotlib.figure.Figure at 0x13752e240>"
      ]
     },
     "metadata": {},
     "output_type": "display_data"
    },
    {
     "data": {
      "image/png": "[encoded data removed]",
      "text/plain": [
       "<matplotlib.figure.Figure at 0x139232c18>"
      ]
     },
     "metadata": {},
     "output_type": "display_data"
    },
    {
     "data": {
      "image/png": "[encoded data removed]",
      "text/plain": [
       "<matplotlib.figure.Figure at 0x1393a9128>"
      ]
     },
     "metadata": {},
     "output_type": "display_data"
    },
    {
     "data": {
      "image/png": "[encoded data removed]",
      "text/plain": [
       "<matplotlib.figure.Figure at 0x137567630>"
      ]
     },
     "metadata": {},
     "output_type": "display_data"
    },
    {
     "data": {
      "image/png": "[encoded data removed]",
      "text/plain": [
       "<matplotlib.figure.Figure at 0x1394e5f60>"
      ]
     },
     "metadata": {},
     "output_type": "display_data"
    }
   ],
   "source": [
    "import matplotlib.image as mpimg\n",
    "\n",
    "test_img = []\n",
    "\n",
    "test_label = [2, 17, 23, 35, 38]\n",
    "\n",
    "\n",
    "file_name = ['label_2.png','label_17.png','label_23.png', 'label_35.png', 'label_38.png']\n",
    "\n",
    "for file in file_name:\n",
    "    img = mpimg.imread('test_own_data/' + file)\n",
    "    img = cv2.resize(img, (32, 32))\n",
    "    img = cv2.cvtColor(img, cv2.COLOR_RGBA2RGB)\n",
    "    test_img.append(img)\n",
    "\n",
    "for i in range(len(file_name)):\n",
    "    plt.figure(figsize=(1,1))\n",
    "    plt.imshow(test_img[i])\n",
    "    "
   ]
  },
  {
   "cell_type": "markdown",
   "metadata": {},
   "source": [
    "### Question 6\n",
    "\n",
    "_Choose five candidate images of traffic signs and provide them in the report. Are there any particular qualities of the image(s) that might make classification difficult? It could be helpful to plot the images in the notebook._\n",
    "\n"
   ]
  },
  {
   "cell_type": "markdown",
   "metadata": {},
   "source": [
    "**Answer:**\n",
    "* The first speed limit image is taken in a snow environment, the background might be difficult to recognize. "
   ]
  },
  {
   "cell_type": "code",
   "execution_count": 80,
   "metadata": {
    "collapsed": false
   },
   "outputs": [
    {
     "name": "stdout",
     "output_type": "stream",
     "text": [
      "Test Accuracy = 0.400\n"
     ]
    }
   ],
   "source": [
    "with tf.Session() as sess:\n",
    "    saver.restore(sess, tf.train.latest_checkpoint('.'))\n",
    "    \n",
    "    test_accuracy = evaluate(test_img, test_label)\n",
    "    print(\"Test Accuracy = {:.3f}\".format(test_accuracy))"
   ]
  },
  {
   "cell_type": "markdown",
   "metadata": {},
   "source": [
    "### Question 7\n",
    "\n",
    "_Is your model able to perform equally well on captured pictures when compared to testing on the dataset? The simplest way to do this check the accuracy of the predictions. For example, if the model predicted 1 out of 5 signs correctly, it's 20% accurate._\n",
    "\n",
    "_**NOTE:** You could check the accuracy manually by using `signnames.csv` (same directory). This file has a mapping from the class id (0-42) to the corresponding sign name. So, you could take the class id the model outputs, lookup the name in `signnames.csv` and see if it matches the sign from the image._\n"
   ]
  },
  {
   "cell_type": "markdown",
   "metadata": {},
   "source": [
    "**Answer:**\n",
    "* The new image test accuracy is 40%. The first image is class \"2\": speed limit(50km/h), the second image is class \"17\": No entry, the third image is class \"23\": Slippery road, the fourth image is class \"35\": Ahead only and the fifth image is class \"38\": Keep right."
   ]
  },
  {
   "cell_type": "code",
   "execution_count": 81,
   "metadata": {
    "collapsed": false
   },
   "outputs": [],
   "source": [
    "softmax = tf.nn.softmax(logits)\n",
    "with tf.Session() as sess:\n",
    "    saver.restore(sess, tf.train.latest_checkpoint('.'))\n",
    "    \n",
    "    prediction = sess.run(softmax, feed_dict = {x: test_img})\n",
    "    top_k = tf.nn.top_k(softmax, 4)\n",
    "    val, idx = sess.run(top_k, feed_dict = {x: test_img})"
   ]
  },
  {
   "cell_type": "code",
   "execution_count": 73,
   "metadata": {
    "collapsed": false
   },
   "outputs": [
    {
     "data": {
      "image/png": "[encoded data removed]",
      "text/plain": [
       "<matplotlib.figure.Figure at 0x13a7d1780>"
      ]
     },
     "metadata": {},
     "output_type": "display_data"
    }
   ],
   "source": [
    "rows, cols = idx.shape\n",
    "\n",
    "fig, axes = plt.subplots(rows, cols+1, figsize=(cols*2, rows*2))\n",
    "for i, row in enumerate(axes):\n",
    "    row[0].axis('off')\n",
    "    row[0].imshow(test_img[i])\n",
    "    row[0].set_title(\"Test Image\")\n",
    "\n",
    "    for j in range(cols):\n",
    "        row[j+1].axis('off')\n",
    "        row[j+1].imshow(X_train[np.where(y_train == idx[i][j])][100])\n",
    "        row[j+1].set_title(\"{:.2f}%\".format(val[i,j]*100))    "
   ]
  },
  {
   "cell_type": "markdown",
   "metadata": {},
   "source": [
    "### Question 8\n",
    "\n",
    "*Use the model's softmax probabilities to visualize the **certainty** of its predictions, [`tf.nn.top_k`](https://www.tensorflow.org/versions/r0.12/api_docs/python/nn.html#top_k) could prove helpful here. Which predictions is the model certain of? Uncertain? If the model was incorrect in its initial prediction, does the correct prediction appear in the top k? (k should be 5 at most)*\n",
    "\n",
    "`tf.nn.top_k` will return the values and indices (class ids) of the top k predictions. So if k=3, for each sign, it'll return the 3 largest probabilities (out of a possible 43) and the correspoding class ids.\n",
    "\n",
    "Take this numpy array as an example:\n",
    "\n",
    "```\n",
    "# (5, 6) array\n",
    "a = np.array([[ 0.24879643,  0.07032244,  0.12641572,  0.34763842,  0.07893497,\n",
    "         0.12789202],\n",
    "       [ 0.28086119,  0.27569815,  0.08594638,  0.0178669 ,  0.18063401,\n",
    "         0.15899337],\n",
    "       [ 0.26076848,  0.23664738,  0.08020603,  0.07001922,  0.1134371 ,\n",
    "         0.23892179],\n",
    "       [ 0.11943333,  0.29198961,  0.02605103,  0.26234032,  0.1351348 ,\n",
    "         0.16505091],\n",
    "       [ 0.09561176,  0.34396535,  0.0643941 ,  0.16240774,  0.24206137,\n",
    "         0.09155967]])\n",
    "```\n",
    "\n",
    "Running it through `sess.run(tf.nn.top_k(tf.constant(a), k=3))` produces:\n",
    "\n",
    "```\n",
    "TopKV2(values=array([[ 0.34763842,  0.24879643,  0.12789202],\n",
    "       [ 0.28086119,  0.27569815,  0.18063401],\n",
    "       [ 0.26076848,  0.23892179,  0.23664738],\n",
    "       [ 0.29198961,  0.26234032,  0.16505091],\n",
    "       [ 0.34396535,  0.24206137,  0.16240774]]), indices=array([[3, 0, 5],\n",
    "       [0, 1, 4],\n",
    "       [0, 5, 1],\n",
    "       [1, 3, 5],\n",
    "       [1, 4, 3]], dtype=int32))\n",
    "```\n",
    "\n",
    "Looking just at the first row we get `[ 0.34763842,  0.24879643,  0.12789202]`, you can confirm these are the 3 largest probabilities in `a`. You'll also notice `[3, 0, 5]` are the corresponding indices."
   ]
  },
  {
   "cell_type": "markdown",
   "metadata": {},
   "source": [
    "**Answer:**\n",
    "* For the first image, the model thinks 10.7% chance the sign is a \"keep right\" sign and 9.12% chance it is a \"general caution\" sign. I am quite curious about why the model would think the speed limit sign as a keep right sign, since the color of the sign is quite different as well as the shape.\n",
    "* For the second image, the model thinks 14.2% chance the sign is a \"Pedestrains\" sign.\n",
    "* For the third image, the model thinks 9.59% chace the sign is a \"Speed limit (60km/h)\" sign. It is interesting to notice that the top 4 choices are all speed limit signs. Maybe because the slippery road sign has a strong red and white color and the model make the classification based on that.\n",
    "* For the fourth image where the model makes a correct classification, however only with 13.35% confidence. The second candidate would be \"Turn left only\" sign.\n",
    "* For the fifth image, the model thinks 70.72% chance it is a \"Keep right\" sign, and in fact, it is."
   ]
  },
  {
   "cell_type": "markdown",
   "metadata": {},
   "source": [
    "> **Note**: Once you have completed all of the code implementations and successfully answered each question above, you may finalize your work by exporting the iPython Notebook as an HTML document. You can do this by using the menu above and navigating to  \\n\",\n",
    "    \"**File -> Download as -> HTML (.html)**. Include the finished document along with this notebook as your submission."
   ]
  },
  {
   "cell_type": "code",
   "execution_count": null,
   "metadata": {
    "collapsed": true
   },
   "outputs": [],
   "source": []
  }
 ],
 "metadata": {
  "anaconda-cloud": {},
  "kernelspec": {
   "display_name": "Python 3",
   "language": "python",
   "name": "python3"
  },
  "language_info": {
   "codemirror_mode": {
    "name": "ipython",
    "version": 3
   },
   "file_extension": ".py",
   "mimetype": "text/x-python",
   "name": "python",
   "nbconvert_exporter": "python",
   "pygments_lexer": "ipython3",
   "version": "3.5.2"
  },
  "widgets": {
   "state": {},
   "version": "1.1.2"
  }
 },
 "nbformat": 4,
 "nbformat_minor": 1
}
